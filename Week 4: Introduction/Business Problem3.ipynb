{
    "cells": [
        {
            "cell_type": "markdown",
            "metadata": {
                "collapsed": true
            },
            "source": "# Introduction/Business Problem"
        },
        {
            "cell_type": "markdown",
            "metadata": {},
            "source": "## Introduction"
        },
        {
            "cell_type": "markdown",
            "metadata": {},
            "source": "New York City is a large city with a population of 8.2 million people in New York State. It is home to various events such as the Thanksgiving Day parade, New Years Eve celebrating, and movie shoots. New York is known for many foods such as pizza and cheesecake. The city has a abundent amount of resturants, attractions, and businesses.\nToronto is located in Ontario, Canada with a population of 2.9 million people. Toronto is home to Toronto Easton Center, the busiest mall in North America. Toronto is also known for its CN Tower, which is the worlds third larget building. The CN Tower hosts a thrill attraction called the EdgeWalk, where thrill-seekers are in a harness walking around the outside of the tower. Inside the tower is a resturant that rotates as one eats."
        },
        {
            "cell_type": "markdown",
            "metadata": {},
            "source": "## Business Problem"
        },
        {
            "cell_type": "markdown",
            "metadata": {},
            "source": "Both New York City and Toronto are places to live with various activities. Whether its dining, shopping, or thrill-seeking attractions, its hard to run out of things to do. Questions:\n1. What are the crime rates like?\n2. Which has the best variety of resturants and stores?\n3. Which has more attractions"
        },
        {
            "cell_type": "markdown",
            "metadata": {},
            "source": "Neighborhood Data:\n    Collected from Toronto: https://en.wikipedia.org/wiki/List_of_postal_codes_of_Canada:_M\n                  New York: https://cf-courses-data.s3.us.cloud-object-storage.appdomain.cloud/IBMDeveloperSkillsNetwork-DS0701EN-SkillsNetwork/labs/newyork_data.json\n                  \nGeographical data: \n    Toronto and New York: GeoLocator\n    \nCrime Data\n    Toronto: https://app.powerbi.com/view?r=eyJrIjoiNDdkMDgzODAtOWZiZS00ZjdhLTlmN2QtMGU1NDMyNDcxNDAyIiwidCI6Ijg1MjljMjI1LWFjNDMtNDc0Yy04ZmI0LTBmNDA5NWFlOGQ1ZCIsImMiOjN9\n    New York: https://compstat.nypdonline.org/2e5c3f4b-85c1-4635-83c6-22b27fe7c75c/view/89\n    "
        },
        {
            "cell_type": "markdown",
            "metadata": {},
            "source": "Collecting Data Using FourSquare for Toronto and New York\n\nConnecting to FourSquare API to find more in-depth information about near by venues by collecting this information:\n1. Neighborhood\n2. Neighborhood Latitude\n3. Neighborhood Longitude\n4. Venue\n5. Name of the venue \n6. Venue Latitude\n7. Venue Longitude\n8. Venue Category\n\n"
        },
        {
            "cell_type": "markdown",
            "metadata": {},
            "source": "The data will be used to in-depth into how both cities run. For example, the FourSquare data will be used to to go into each neighborhood and discover\nits resturants and attractions. It will be used to determine which city is better in terms of keeping busy."
        }
    ],
    "metadata": {
        "kernelspec": {
            "display_name": "Python 3.7",
            "language": "python",
            "name": "python3"
        },
        "language_info": {
            "codemirror_mode": {
                "name": "ipython",
                "version": 3
            },
            "file_extension": ".py",
            "mimetype": "text/x-python",
            "name": "python",
            "nbconvert_exporter": "python",
            "pygments_lexer": "ipython3",
            "version": "3.7.9"
        }
    },
    "nbformat": 4,
    "nbformat_minor": 1
}