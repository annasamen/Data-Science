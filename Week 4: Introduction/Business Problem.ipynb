{
    "cells": [
        {
            "cell_type": "markdown",
            "metadata": {
                "collapsed": true
            },
            "source": "# Introduction/Business Problem"
        },
        {
            "cell_type": "markdown",
            "metadata": {},
            "source": "## Introduction"
        },
        {
            "cell_type": "markdown",
            "metadata": {},
            "source": "Tampa is home to approximately 400,000 people. It is the main location of various corporations and major league sports teams. Thus it is a city of opportunity.\nMeaning that a wide variety of people live in this city for many different purposes. It is 1.5 hours away from Disney World \nand a few minutes away from Busch Gardens. Tampa has also added various new attractions to its downtown area, such as a 2.5 \nmile long riverwalk on the bay, which runs along the city and goes through the conventions center, multiple resturants, and a \nperforming arts center. Across the city are three different beaches open year round and to the public. \n"
        },
        {
            "cell_type": "markdown",
            "metadata": {},
            "source": "## Business Problem"
        },
        {
            "cell_type": "markdown",
            "metadata": {},
            "source": "Dan and Jan are interested in moving to Tampa and opening a family owned italian resturant. However, they do not know where they would want to be located.\n\nWhat data will be looked at?\nData will be collected from all the major areas (counties) in Tampa. This data will then include individual population, local attractions, and local resturants. The data will also narrow in on how the population feels about the resturants that are already open in the area.\n\nWhy will this data be looked at?\nThe data will give detail on how the individuals in Tampa spend their days. It will also provide insight on what is popular and what the city is missing.\n\n"
        }
    ],
    "metadata": {
        "kernelspec": {
            "display_name": "Python 3.7",
            "language": "python",
            "name": "python3"
        },
        "language_info": {
            "codemirror_mode": {
                "name": "ipython",
                "version": 3
            },
            "file_extension": ".py",
            "mimetype": "text/x-python",
            "name": "python",
            "nbconvert_exporter": "python",
            "pygments_lexer": "ipython3",
            "version": "3.7.9"
        }
    },
    "nbformat": 4,
    "nbformat_minor": 1
}